{
 "cells": [
  {
   "cell_type": "markdown",
   "metadata": {},
   "source": [
    "## First Goal: select data interactively"
   ]
  },
  {
   "cell_type": "markdown",
   "metadata": {},
   "source": [
    "### The purpose of this notebook is to read in a csv that the user selects by selecting the organization and dialect and collection. It's a way to learn how to create dropdowns that interact with each other."
   ]
  },
  {
   "cell_type": "code",
   "execution_count": 86,
   "metadata": {
    "collapsed": false,
    "scrolled": true
   },
   "outputs": [],
   "source": [
    "import pandas as pd\n",
    "import os\n",
    "from os import walk\n",
    "import numpy as np\n",
    "from ipykernel import kernelapp as app\n",
    "from __future__ import print_function\n",
    "from ipywidgets import interact, interactive, fixed, interact_manual\n",
    "import ipywidgets as widgets\n",
    "from ipywidgets import Button, Layout\n",
    "from glob import glob"
   ]
  },
  {
   "cell_type": "markdown",
   "metadata": {},
   "source": [
    "### Read in csv for dialects and for recommendations. RecTag is not a well-formed CSV. May take advantage of John Farley's early work now that I can finally start to understand it."
   ]
  },
  {
   "cell_type": "code",
   "execution_count": 87,
   "metadata": {
    "collapsed": false
   },
   "outputs": [],
   "source": [
    "ConceptsPresenceAbsenceDF= pd.read_csv('/Users/scgordon/ConceptMining/Tables/dialectTable/dialectContains.csv')"
   ]
  },
  {
   "cell_type": "code",
   "execution_count": 88,
   "metadata": {
    "collapsed": false
   },
   "outputs": [],
   "source": [
    "#RecommendationsDF= pd.read_csv('/Users/scgordon/ConceptMining/Tables/RecommendationsTable/RecTag.csv')"
   ]
  },
  {
   "cell_type": "markdown",
   "metadata": {},
   "source": [
    "### query the directory for subdirectory names, return them in a list."
   ]
  },
  {
   "cell_type": "code",
   "execution_count": 89,
   "metadata": {
    "collapsed": false
   },
   "outputs": [
    {
     "data": {
      "text/plain": [
       "['BCO-DMO',\n",
       " 'DataOne',\n",
       " 'IEDA',\n",
       " 'LTERthroughTime',\n",
       " 'NASA',\n",
       " 'NCAR',\n",
       " 'ORNL',\n",
       " 'USGS']"
      ]
     },
     "execution_count": 89,
     "metadata": {},
     "output_type": "execute_result"
    }
   ],
   "source": [
    "Organizations = []\n",
    "for (dirpath, dirnames, filenames) in walk('/Users/scgordon/ConceptMining/data/'):\n",
    "    Organizations.extend(dirnames)\n",
    "    break\n",
    "Organizations    "
   ]
  },
  {
   "cell_type": "code",
   "execution_count": 93,
   "metadata": {
    "collapsed": true
   },
   "outputs": [],
   "source": [
    "def OrganizationChoice(Organization):\n",
    "    CollectionChoices=os.listdir(os.path.join('/Users/scgordon/ConceptMining/data',Organization))\n",
    "    return CollectionChoices"
   ]
  },
  {
   "cell_type": "code",
   "execution_count": 94,
   "metadata": {
    "collapsed": true
   },
   "outputs": [],
   "source": [
    "#def CollectionChoice(Collection):\n",
    "#    CollectionConceptsDF= pd.read_csv(os.path.join('/Users/scgordon/ConceptMining/data/', Organization, Collection))\n",
    "#    return CollectionConceptsDF"
   ]
  },
  {
   "cell_type": "code",
   "execution_count": 95,
   "metadata": {
    "collapsed": false
   },
   "outputs": [
    {
     "data": {
      "text/plain": [
       "['GES_DISC_DIF_data.csv',\n",
       " 'GHRC_DIF_data.csv',\n",
       " 'GHRC_ISO_data.csv',\n",
       " 'GHRC_ISO_data2.csv',\n",
       " 'LARC2_ISO_data.csv',\n",
       " 'LARC_DIF_data.csv',\n",
       " 'LARC_ISO_data.csv',\n",
       " 'NSIDC_DIF_data.csv',\n",
       " 'NSIDC_DIF_data1.xlsx',\n",
       " 'NSIDC_DIF_data2.xlsx',\n",
       " 'NSIDC_DIF_data3.xlsx',\n",
       " 'NSIDC_HopeThisWorks_RAD.xlsx',\n",
       " 'NSIDC_ISO_data.csv',\n",
       " 'NSIDC_ISO_data1.csv',\n",
       " 'NSIDC_ISO_data2.xlsx',\n",
       " 'NSIDC_ISO_data3.xlsx',\n",
       " 'NSIDC_ISO_data4.xlsx']"
      ]
     },
     "execution_count": 95,
     "metadata": {},
     "output_type": "execute_result"
    }
   ],
   "source": [
    "OrganizationChoice('NASA')"
   ]
  },
  {
   "cell_type": "raw",
   "metadata": {},
   "source": [
    "interact(OrganizationChoice, Organizations)"
   ]
  },
  {
   "cell_type": "markdown",
   "metadata": {},
   "source": [
    "### Reading in the CSV containing the concept data."
   ]
  },
  {
   "cell_type": "code",
   "execution_count": 96,
   "metadata": {
    "collapsed": false,
    "scrolled": true
   },
   "outputs": [],
   "source": [
    "#interact(CollectionChoice, Collection=CollectionChoices)"
   ]
  },
  {
   "cell_type": "code",
   "execution_count": null,
   "metadata": {
    "collapsed": true
   },
   "outputs": [],
   "source": []
  }
 ],
 "metadata": {
  "kernelspec": {
   "display_name": "Python 3",
   "language": "python",
   "name": "python3"
  },
  "language_info": {
   "codemirror_mode": {
    "name": "ipython",
    "version": 3
   },
   "file_extension": ".py",
   "mimetype": "text/x-python",
   "name": "python",
   "nbconvert_exporter": "python",
   "pygments_lexer": "ipython3",
   "version": "3.6.0"
  }
 },
 "nbformat": 4,
 "nbformat_minor": 2
}
