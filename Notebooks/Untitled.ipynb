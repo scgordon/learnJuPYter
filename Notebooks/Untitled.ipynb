{
 "cells": [
  {
   "cell_type": "code",
   "execution_count": null,
   "metadata": {
    "collapsed": true
   },
   "outputs": [],
   "source": [
    "import numpy as np\n",
    "from numpy import pi\n",
    "\n",
    "from bokeh.client import push_session\n",
    "from bokeh.driving import cosine\n",
    "from bokeh.plotting import figure, curdoc\n",
    "\n",
    "x = np.linspace(0, 4*pi, 80)\n",
    "y = np.sin(x)\n",
    "\n",
    "p = figure()\n",
    "r1 = p.line([0, 4*pi], [-1, 1], color=\"firebrick\")\n",
    "r2 = p.line(x, y, color=\"navy\", line_width=4)\n",
    "\n",
    "# open a session to keep our local document in sync with server\n",
    "session = push_session(curdoc())\n",
    "\n",
    "@cosine(w=0.03)\n",
    "def update(step):\n",
    "    # updating a single column of the the *same length* is OK\n",
    "    r2.data_source.data[\"y\"] = y * step\n",
    "    r2.glyph.line_alpha = 1 - 0.8 * abs(step)\n",
    "\n",
    "curdoc().add_periodic_callback(update, 50)\n",
    "\n",
    "session.show(p) # open the document in a browser\n",
    "\n",
    "session.loop_until_closed() # run forever"
   ]
  },
  {
   "cell_type": "code",
   "execution_count": null,
   "metadata": {
    "collapsed": true
   },
   "outputs": [],
   "source": []
  }
 ],
 "metadata": {
  "kernelspec": {
   "display_name": "Python 3",
   "language": "python",
   "name": "python3"
  },
  "language_info": {
   "codemirror_mode": {
    "name": "ipython",
    "version": 3
   },
   "file_extension": ".py",
   "mimetype": "text/x-python",
   "name": "python",
   "nbconvert_exporter": "python",
   "pygments_lexer": "ipython3",
   "version": "3.6.0"
  }
 },
 "nbformat": 4,
 "nbformat_minor": 2
}
